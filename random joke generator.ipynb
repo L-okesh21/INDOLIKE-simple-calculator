{
 "cells": [
  {
   "cell_type": "code",
   "execution_count": 1,
   "id": "2dda4db3",
   "metadata": {},
   "outputs": [
    {
     "name": "stdout",
     "output_type": "stream",
     "text": [
      "=== Random Joke Generator ===\n",
      "\n",
      "😂 Here's a joke for you:\n",
      "What did celery say when he broke up with his girlfriend?\n",
      "She wasn't right for me, so I really don't carrot all.\n",
      "\n",
      "😂 Here's a joke for you:\n",
      "What cheese can never be yours?\n",
      "Nacho cheese.\n",
      "\n",
      "😂 Here's a joke for you:\n",
      "What’s the object-oriented way to become wealthy?\n",
      "Inheritance.\n",
      "\n",
      "😂 Here's a joke for you:\n",
      "What did the judge say to the dentist?\n",
      "Do you swear to pull the tooth, the whole tooth and nothing but the tooth?\n",
      "\n",
      "😂 Here's a joke for you:\n",
      "Where do sheep go to get their hair cut?\n",
      "The baa-baa shop.\n",
      "Goodbye! Stay happy 😄\n"
     ]
    }
   ],
   "source": [
    "import requests\n",
    "\n",
    "def get_random_joke():\n",
    "    url = \"https://official-joke-api.appspot.com/random_joke\"\n",
    "    try:\n",
    "        response = requests.get(url)\n",
    "        if response.status_code == 200:\n",
    "            joke = response.json()\n",
    "            print(\"\\n😂 Here's a joke for you:\")\n",
    "            print(joke[\"setup\"])\n",
    "            input(\"...press Enter for the punchline...\")\n",
    "            print(joke[\"punchline\"])\n",
    "        else:\n",
    "            print(\"Couldn't fetch a joke. Server returned status:\", response.status_code)\n",
    "    except requests.exceptions.RequestException as e:\n",
    "        print(\"⚠️ Network error:\", e)\n",
    "\n",
    "def main():\n",
    "    print(\"=== Random Joke Generator ===\")\n",
    "    while True:\n",
    "        get_random_joke()\n",
    "        again = input(\"\\nDo you want another joke? (y/n): \").lower()\n",
    "        if again != 'y':\n",
    "            print(\"Goodbye! Stay happy 😄\")\n",
    "            break\n",
    "\n",
    "if __name__ == \"__main__\":\n",
    "    main()\n"
   ]
  },
  {
   "cell_type": "code",
   "execution_count": null,
   "id": "dc833cbb",
   "metadata": {},
   "outputs": [],
   "source": []
  }
 ],
 "metadata": {
  "kernelspec": {
   "display_name": "base",
   "language": "python",
   "name": "python3"
  },
  "language_info": {
   "codemirror_mode": {
    "name": "ipython",
    "version": 3
   },
   "file_extension": ".py",
   "mimetype": "text/x-python",
   "name": "python",
   "nbconvert_exporter": "python",
   "pygments_lexer": "ipython3",
   "version": "3.12.7"
  }
 },
 "nbformat": 4,
 "nbformat_minor": 5
}
