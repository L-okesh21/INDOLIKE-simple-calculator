{
 "cells": [
  {
   "cell_type": "code",
   "execution_count": 1,
   "id": "a0ed1d95",
   "metadata": {},
   "outputs": [
    {
     "name": "stdout",
     "output_type": "stream",
     "text": [
      "=== Welcome to the Quiz Game ===\n",
      "\n",
      "Q1: What is the capital of India?\n",
      "A. Mumbai\n",
      "B. New Delhi\n",
      "C. Kolkata\n",
      "D. Bengaluru\n",
      "✅ Correct!\n",
      "\n",
      "Q2: Which is the largest planet in our solar system?\n",
      "A. Earth\n",
      "B. Jupiter\n",
      "C. Mars\n",
      "D. Saturn\n",
      "✅ Correct!\n",
      "\n",
      "Q3: Who developed the theory of relativity?\n",
      "A. Isaac Newton\n",
      "B. Galileo Galilei\n",
      "C. Nikola Tesla\n",
      "D. Albert Einstein\n",
      "✅ Correct!\n",
      "\n",
      "Q4: What does CPU stand for?\n",
      "A. Central Process Unit\n",
      "B. Central Processing Unit\n",
      "C. Computer Personal Unit\n",
      "D. Central Power Unit\n",
      "✅ Correct!\n",
      "\n",
      "🎯 Quiz completed! Your score: 4 out of 4\n"
     ]
    }
   ],
   "source": [
    "def run_quiz():\n",
    "    print(\"=== Welcome to the Quiz Game ===\")\n",
    "    questions = [\n",
    "        {\n",
    "            \"question\": \"What is the capital of India?\",\n",
    "            \"choices\": [\"A. Mumbai\", \"B. New Delhi\", \"C. Kolkata\", \"D. Bengaluru\"],\n",
    "            \"answer\": \"B\"\n",
    "        },\n",
    "        {\n",
    "            \"question\": \"Which is the largest planet in our solar system?\",\n",
    "            \"choices\": [\"A. Earth\", \"B. Jupiter\", \"C. Mars\", \"D. Saturn\"],\n",
    "            \"answer\": \"B\"\n",
    "        },\n",
    "        {\n",
    "            \"question\": \"Who developed the theory of relativity?\",\n",
    "            \"choices\": [\"A. Isaac Newton\", \"B. Galileo Galilei\", \"C. Nikola Tesla\", \"D. Albert Einstein\"],\n",
    "            \"answer\": \"D\"\n",
    "        },\n",
    "        {\n",
    "            \"question\": \"What does CPU stand for?\",\n",
    "            \"choices\": [\"A. Central Process Unit\", \"B. Central Processing Unit\", \"C. Computer Personal Unit\", \"D. Central Power Unit\"],\n",
    "            \"answer\": \"B\"\n",
    "        }\n",
    "    ]\n",
    "\n",
    "    score = 0\n",
    "\n",
    "    for i, q in enumerate(questions, 1):\n",
    "        print(f\"\\nQ{i}: {q['question']}\")\n",
    "        for choice in q[\"choices\"]:\n",
    "            print(choice)\n",
    "        user_answer = input(\"Your answer (A/B/C/D): \").upper()\n",
    "\n",
    "        if user_answer == q[\"answer\"]:\n",
    "            print(\"✅ Correct!\")\n",
    "            score += 1\n",
    "        else:\n",
    "            print(f\"❌ Wrong! Correct answer is {q['answer']}.\")\n",
    "\n",
    "    print(f\"\\n🎯 Quiz completed! Your score: {score} out of {len(questions)}\")\n",
    "\n",
    "if __name__ == \"__main__\":\n",
    "    run_quiz()\n"
   ]
  },
  {
   "cell_type": "code",
   "execution_count": null,
   "id": "a9df5920",
   "metadata": {},
   "outputs": [],
   "source": []
  }
 ],
 "metadata": {
  "kernelspec": {
   "display_name": "base",
   "language": "python",
   "name": "python3"
  },
  "language_info": {
   "codemirror_mode": {
    "name": "ipython",
    "version": 3
   },
   "file_extension": ".py",
   "mimetype": "text/x-python",
   "name": "python",
   "nbconvert_exporter": "python",
   "pygments_lexer": "ipython3",
   "version": "3.12.7"
  }
 },
 "nbformat": 4,
 "nbformat_minor": 5
}
